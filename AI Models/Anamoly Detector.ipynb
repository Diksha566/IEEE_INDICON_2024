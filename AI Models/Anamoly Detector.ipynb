{
 "cells": [
  {
   "cell_type": "code",
   "execution_count": 1,
   "id": "4be71acc-a13b-43ee-9dd3-359acb984462",
   "metadata": {},
   "outputs": [
    {
     "name": "stdout",
     "output_type": "stream",
     "text": [
      "Epoch 1/20\n",
      "21/21 [==============================] - 1s 9ms/step - loss: 0.6462 - accuracy: 0.8765 - val_loss: 0.6152 - val_accuracy: 0.9464\n",
      "Epoch 2/20\n",
      "21/21 [==============================] - 0s 2ms/step - loss: 0.5837 - accuracy: 0.9524 - val_loss: 0.5486 - val_accuracy: 0.9464\n",
      "Epoch 3/20\n",
      "21/21 [==============================] - 0s 2ms/step - loss: 0.5130 - accuracy: 0.9524 - val_loss: 0.4804 - val_accuracy: 0.9464\n",
      "Epoch 4/20\n",
      "21/21 [==============================] - 0s 2ms/step - loss: 0.4491 - accuracy: 0.9524 - val_loss: 0.4170 - val_accuracy: 0.9464\n",
      "Epoch 5/20\n",
      "21/21 [==============================] - 0s 2ms/step - loss: 0.3830 - accuracy: 0.9524 - val_loss: 0.3669 - val_accuracy: 0.9464\n",
      "Epoch 6/20\n",
      "21/21 [==============================] - 0s 2ms/step - loss: 0.3366 - accuracy: 0.9524 - val_loss: 0.3308 - val_accuracy: 0.9464\n",
      "Epoch 7/20\n",
      "21/21 [==============================] - 0s 2ms/step - loss: 0.3021 - accuracy: 0.9524 - val_loss: 0.3086 - val_accuracy: 0.9464\n",
      "Epoch 8/20\n",
      "21/21 [==============================] - 0s 2ms/step - loss: 0.2875 - accuracy: 0.9524 - val_loss: 0.2925 - val_accuracy: 0.9464\n",
      "Epoch 9/20\n",
      "21/21 [==============================] - 0s 2ms/step - loss: 0.2735 - accuracy: 0.9524 - val_loss: 0.2776 - val_accuracy: 0.9464\n",
      "Epoch 10/20\n",
      "21/21 [==============================] - 0s 2ms/step - loss: 0.2476 - accuracy: 0.9524 - val_loss: 0.2632 - val_accuracy: 0.9464\n",
      "Epoch 11/20\n",
      "21/21 [==============================] - 0s 2ms/step - loss: 0.2450 - accuracy: 0.9524 - val_loss: 0.2467 - val_accuracy: 0.9464\n",
      "Epoch 12/20\n",
      "21/21 [==============================] - 0s 2ms/step - loss: 0.2264 - accuracy: 0.9524 - val_loss: 0.2309 - val_accuracy: 0.9464\n",
      "Epoch 13/20\n",
      "21/21 [==============================] - 0s 2ms/step - loss: 0.2118 - accuracy: 0.9524 - val_loss: 0.2135 - val_accuracy: 0.9464\n",
      "Epoch 14/20\n",
      "21/21 [==============================] - 0s 2ms/step - loss: 0.1938 - accuracy: 0.9524 - val_loss: 0.1961 - val_accuracy: 0.9464\n",
      "Epoch 15/20\n",
      "21/21 [==============================] - 0s 2ms/step - loss: 0.1756 - accuracy: 0.9524 - val_loss: 0.1812 - val_accuracy: 0.9464\n",
      "Epoch 16/20\n",
      "21/21 [==============================] - 0s 2ms/step - loss: 0.1640 - accuracy: 0.9524 - val_loss: 0.1687 - val_accuracy: 0.9464\n",
      "Epoch 17/20\n",
      "21/21 [==============================] - 0s 2ms/step - loss: 0.1507 - accuracy: 0.9524 - val_loss: 0.1553 - val_accuracy: 0.9464\n",
      "Epoch 18/20\n",
      "21/21 [==============================] - 0s 2ms/step - loss: 0.1399 - accuracy: 0.9524 - val_loss: 0.1429 - val_accuracy: 0.9464\n",
      "Epoch 19/20\n",
      "21/21 [==============================] - 0s 2ms/step - loss: 0.1301 - accuracy: 0.9524 - val_loss: 0.1300 - val_accuracy: 0.9464\n",
      "Epoch 20/20\n",
      "21/21 [==============================] - 0s 2ms/step - loss: 0.1202 - accuracy: 0.9524 - val_loss: 0.1187 - val_accuracy: 0.9464\n",
      "7/7 [==============================] - 0s 1ms/step - loss: 0.1083 - accuracy: 0.9571\n",
      "Test Loss: 0.1083, Test Accuracy: 0.9571\n"
     ]
    },
    {
     "data": {
      "image/png": "[encoded data removed]",
      "text/plain": [
       "<Figure size 640x480 with 1 Axes>"
      ]
     },
     "metadata": {},
     "output_type": "display_data"
    },
    {
     "name": "stderr",
     "output_type": "stream",
     "text": [
      "C:\\Users\\HP\\anaconda3\\Lib\\site-packages\\keras\\src\\engine\\training.py:3000: UserWarning: You are saving your model as an HDF5 file via `model.save()`. This file format is considered legacy. We recommend using instead the native Keras format, e.g. `model.save('my_model.keras')`.\n",
      "  saving_api.save_model(\n"
     ]
    },
    {
     "name": "stdout",
     "output_type": "stream",
     "text": [
      "INFO:tensorflow:Assets written to: C:\\Users\\HP\\AppData\\Local\\Temp\\tmp0d445ziz\\assets\n"
     ]
    },
    {
     "name": "stderr",
     "output_type": "stream",
     "text": [
      "INFO:tensorflow:Assets written to: C:\\Users\\HP\\AppData\\Local\\Temp\\tmp0d445ziz\\assets\n"
     ]
    },
    {
     "name": "stdout",
     "output_type": "stream",
     "text": [
      "TFLite model saved as 'anomaly_detection_model.tflite'.\n",
      "Sample Input: [0.17723567 0.0998181  0.09948192 0.25186854]\n",
      "Anomaly Score: 0.0163\n"
     ]
    }
   ],
   "source": [
    "import numpy as np\n",
    "import pandas as pd\n",
    "import tensorflow as tf\n",
    "from sklearn.model_selection import train_test_split\n",
    "from sklearn.preprocessing import MinMaxScaler\n",
    "import matplotlib.pyplot as plt\n",
    "\n",
    "np.random.seed(42)\n",
    "tf.random.set_seed(42)\n",
    "\n",
    "# Simulate data\n",
    "gas_data = np.concatenate([np.random.uniform(0, 150, 1000), np.random.uniform(150, 300, 50)])\n",
    "vibration_x = np.concatenate([np.random.uniform(-5, 5, 1000), np.random.uniform(6, 10, 50)])\n",
    "vibration_y = np.concatenate([np.random.uniform(-5, 5, 1000), np.random.uniform(6, 10, 50)])\n",
    "temperature_data = np.concatenate([np.random.uniform(15, 35, 1000), np.random.uniform(50, 70, 50)])\n",
    "labels = np.concatenate([np.zeros(1000), np.ones(50)])  # 0: Normal, 1: Anomaly\n",
    "\n",
    "data = pd.DataFrame({\"gas\": gas_data, \"vibration_x\": vibration_x, \"vibration_y\": vibration_y,\n",
    "                     \"temperature\": temperature_data, \"label\": labels}).sample(frac=1).reset_index(drop=True)\n",
    "\n",
    "# Preprocess data\n",
    "X = data[[\"gas\", \"vibration_x\", \"vibration_y\", \"temperature\"]]\n",
    "y = data[\"label\"]\n",
    "X_scaled = MinMaxScaler().fit_transform(X)\n",
    "X_train, X_test, y_train, y_test = train_test_split(X_scaled, y, test_size=0.2, random_state=42)\n",
    "\n",
    "# Build and train model\n",
    "model = tf.keras.Sequential([\n",
    "    tf.keras.layers.Dense(16, activation='relu', input_shape=(X_train.shape[1],)),\n",
    "    tf.keras.layers.Dropout(0.2),\n",
    "    tf.keras.layers.Dense(8, activation='relu'),\n",
    "    tf.keras.layers.Dense(1, activation='sigmoid')\n",
    "])\n",
    "\n",
    "model.compile(optimizer='adam', loss='binary_crossentropy', metrics=['accuracy'])\n",
    "history = model.fit(X_train, y_train, epochs=20, batch_size=32, validation_split=0.2)\n",
    "\n",
    "# Evaluate model\n",
    "loss, accuracy = model.evaluate(X_test, y_test)\n",
    "print(f\"Test Loss: {loss:.4f}, Test Accuracy: {accuracy:.4f}\")\n",
    "\n",
    "plt.plot(history.history['accuracy'], label='Train')\n",
    "plt.plot(history.history['val_accuracy'], label='Validation')\n",
    "plt.xlabel('Epochs')\n",
    "plt.ylabel('Accuracy')\n",
    "plt.legend()\n",
    "plt.show()\n",
    "\n",
    "# Convert and save model to TensorFlow Lite\n",
    "model.save(\"anomaly_detection_model.h5\")\n",
    "converter = tf.lite.TFLiteConverter.from_keras_model(model)\n",
    "tflite_model = converter.convert()\n",
    "\n",
    "with open(\"anomaly_detection_model.tflite\", \"wb\") as f:\n",
    "    f.write(tflite_model)\n",
    "print(\"TFLite model saved as 'anomaly_detection_model.tflite'.\")\n",
    "\n",
    "# Test TensorFlow Lite model\n",
    "interpreter = tf.lite.Interpreter(model_path=\"anomaly_detection_model.tflite\")\n",
    "interpreter.allocate_tensors()\n",
    "input_details = interpreter.get_input_details()\n",
    "output_details = interpreter.get_output_details()\n",
    "\n",
    "sample_input = np.expand_dims(X_test[0], axis=0).astype(np.float32)\n",
    "interpreter.set_tensor(input_details[0]['index'], sample_input)\n",
    "interpreter.invoke()\n",
    "output = interpreter.get_tensor(output_details[0]['index'])\n",
    "print(f\"Sample Input: {X_test[0]}\")\n",
    "print(f\"Anomaly Score: {output[0][0]:.4f}\")\n"
   ]
  },
  {
   "cell_type": "code",
   "execution_count": null,
   "id": "918c5aa0-ac0a-46f6-9bc2-c8c21101bffc",
   "metadata": {},
   "outputs": [],
   "source": []
  }
 ],
 "metadata": {
  "kernelspec": {
   "display_name": "Python 3 (ipykernel)",
   "language": "python",
   "name": "python3"
  },
  "language_info": {
   "codemirror_mode": {
    "name": "ipython",
    "version": 3
   },
   "file_extension": ".py",
   "mimetype": "text/x-python",
   "name": "python",
   "nbconvert_exporter": "python",
   "pygments_lexer": "ipython3",
   "version": "3.11.5"
  }
 },
 "nbformat": 4,
 "nbformat_minor": 5
}
